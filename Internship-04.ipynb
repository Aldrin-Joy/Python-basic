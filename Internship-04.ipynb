{
 "cells": [
  {
   "cell_type": "code",
   "execution_count": null,
   "metadata": {},
   "outputs": [
    {
     "name": "stdout",
     "output_type": "stream",
     "text": [
      "12\n"
     ]
    }
   ],
   "source": [
    "double = lambda x,y,z: x+y+z\n",
    "print(double(5,4,3))"
   ]
  },
  {
   "cell_type": "code",
   "execution_count": null,
   "metadata": {},
   "outputs": [
    {
     "name": "stdout",
     "output_type": "stream",
     "text": [
      "[12, 4, 6, 8, 10]\n"
     ]
    }
   ],
   "source": [
    "my_list = [1,5,12,4,6,7,3,8,10]\n",
    "new_list = filter(lambda x: (x%2 == 0),my_list)\n",
    "print(list(new_list))"
   ]
  },
  {
   "cell_type": "code",
   "execution_count": 3,
   "metadata": {},
   "outputs": [
    {
     "data": {
      "text/plain": [
       "[2, 10, 24, 8, 12, 14, 6, 16, 20]"
      ]
     },
     "execution_count": 3,
     "metadata": {},
     "output_type": "execute_result"
    }
   ],
   "source": [
    "my_list = [1,5,12,4,6,7,3,8,10]\n",
    "new_list = list(map(lambda x:x*2 ,my_list))\n",
    "new_list"
   ]
  },
  {
   "cell_type": "code",
   "execution_count": 4,
   "metadata": {},
   "outputs": [
    {
     "name": "stdout",
     "output_type": "stream",
     "text": [
      "120\n"
     ]
    }
   ],
   "source": [
    "from functools import reduce\n",
    "numbers = [1,2,3,4,5]\n",
    "product = reduce(lambda x,y:x*y,numbers)\n",
    "print(product)"
   ]
  },
  {
   "cell_type": "code",
   "execution_count": 6,
   "metadata": {},
   "outputs": [
    {
     "name": "stdout",
     "output_type": "stream",
     "text": [
      "Defaulting to user installation because normal site-packages is not writeableNote: you may need to restart the kernel to use updated packages.\n",
      "\n",
      "Collecting fibo\n",
      "  Downloading Fibo-1.0.0.tar.gz (855 bytes)\n",
      "  Installing build dependencies: started\n",
      "  Installing build dependencies: finished with status 'done'\n",
      "  Getting requirements to build wheel: started\n",
      "  Getting requirements to build wheel: finished with status 'done'\n",
      "  Installing backend dependencies: started\n",
      "  Installing backend dependencies: finished with status 'done'\n",
      "  Preparing metadata (pyproject.toml): started\n",
      "  Preparing metadata (pyproject.toml): finished with status 'done'\n",
      "Building wheels for collected packages: fibo\n",
      "  Building wheel for fibo (pyproject.toml): started\n",
      "  Building wheel for fibo (pyproject.toml): finished with status 'done'\n",
      "  Created wheel for fibo: filename=Fibo-1.0.0-py3-none-any.whl size=1513 sha256=ac97c6fd57754eba1733b80d6f497f44ef42e18e0a1e84674a91e0fe1ee89611\n",
      "  Stored in directory: c:\\users\\admin\\appdata\\local\\pip\\cache\\wheels\\c1\\35\\9d\\e7b2ccf290eba66bb003126a86becb8f9f48aeaad1e7bb309f\n",
      "Successfully built fibo\n",
      "Installing collected packages: fibo\n",
      "Successfully installed fibo-1.0.0\n"
     ]
    }
   ],
   "source": [
    "pip install fibo"
   ]
  },
  {
   "cell_type": "code",
   "execution_count": 7,
   "metadata": {},
   "outputs": [
    {
     "ename": "ModuleNotFoundError",
     "evalue": "No module named 'fibo'",
     "output_type": "error",
     "traceback": [
      "\u001b[1;31m---------------------------------------------------------------------------\u001b[0m",
      "\u001b[1;31mModuleNotFoundError\u001b[0m                       Traceback (most recent call last)",
      "Cell \u001b[1;32mIn[7], line 1\u001b[0m\n\u001b[1;32m----> 1\u001b[0m \u001b[38;5;28;01mimport\u001b[39;00m \u001b[38;5;21;01mfibo\u001b[39;00m\n",
      "\u001b[1;31mModuleNotFoundError\u001b[0m: No module named 'fibo'"
     ]
    }
   ],
   "source": [
    "import fibo"
   ]
  },
  {
   "cell_type": "code",
   "execution_count": 11,
   "metadata": {},
   "outputs": [
    {
     "name": "stdout",
     "output_type": "stream",
     "text": [
      "0\n",
      "1\n",
      "1\n",
      "2\n",
      "3\n",
      "5\n",
      "8\n",
      "13\n",
      "21\n",
      "34\n"
     ]
    }
   ],
   "source": [
    "#fibonocci\n",
    "f=0\n",
    "s=1\n",
    "next=0\n",
    "n=10\n",
    "i=0\n",
    "while n>i:\n",
    "    if i<=1:\n",
    "        next=i\n",
    "    else:\n",
    "        next=f+s\n",
    "        f=s\n",
    "        s=next\n",
    "    i+=1\n",
    "    print(next)    "
   ]
  },
  {
   "cell_type": "code",
   "execution_count": 22,
   "metadata": {},
   "outputs": [
    {
     "name": "stdout",
     "output_type": "stream",
     "text": [
      "0\n",
      "1\n",
      "1\n",
      "2\n",
      "3\n"
     ]
    }
   ],
   "source": [
    "#fibonocci\n",
    "def fib(n):\n",
    "    f=0\n",
    "    s=1\n",
    "    next=0\n",
    "    n=int(input(\"enter no.:\"))\n",
    "    i=0\n",
    "    n\n",
    "    while n>i:\n",
    "        if i<=1:\n",
    "            next=i\n",
    "        else:\n",
    "            next=f+s\n",
    "            f=s\n",
    "            s=next\n",
    "        f\n",
    "        i+=1\n",
    "        print(next)\n",
    "fib(n)    "
   ]
  },
  {
   "cell_type": "code",
   "execution_count": null,
   "metadata": {},
   "outputs": [],
   "source": [
    "import fib \n",
    "result=fib.generate_fibonacci"
   ]
  },
  {
   "cell_type": "code",
   "execution_count": 23,
   "metadata": {},
   "outputs": [
    {
     "ename": "ModuleNotFoundError",
     "evalue": "No module named 'b'",
     "output_type": "error",
     "traceback": [
      "\u001b[1;31m---------------------------------------------------------------------------\u001b[0m",
      "\u001b[1;31mModuleNotFoundError\u001b[0m                       Traceback (most recent call last)",
      "Cell \u001b[1;32mIn[23], line 25\u001b[0m\n\u001b[0;32m     22\u001b[0m         i \u001b[38;5;241m+\u001b[39m\u001b[38;5;241m=\u001b[39m \u001b[38;5;241m1\u001b[39m\n\u001b[0;32m     24\u001b[0m     \u001b[38;5;28;01mreturn\u001b[39;00m fibonacci_sequence\n\u001b[1;32m---> 25\u001b[0m \u001b[38;5;28;01mimport\u001b[39;00m \u001b[38;5;21;01mb\u001b[39;00m\n\u001b[0;32m     27\u001b[0m result \u001b[38;5;241m=\u001b[39m b\u001b[38;5;241m.\u001b[39mgenerate_fibonacci(\u001b[38;5;241m7\u001b[39m)\n\u001b[0;32m     28\u001b[0m \u001b[38;5;28mprint\u001b[39m(result)\n",
      "\u001b[1;31mModuleNotFoundError\u001b[0m: No module named 'b'"
     ]
    }
   ],
   "source": [
    "def add(a, b):\n",
    "    result = a + b\n",
    "    return result\n",
    "\n",
    "\n",
    "def generate_fibonacci(n):\n",
    "    f = 0\n",
    "    s = 1\n",
    "    next = 0\n",
    "    fibonacci_sequence = []\n",
    "\n",
    "    i = 0\n",
    "    while n > i:\n",
    "        if i <= 1:\n",
    "            next = i\n",
    "        else:\n",
    "            next = f + s\n",
    "            f = s\n",
    "            s = next\n",
    "        \n",
    "        fibonacci_sequence.append(next)\n",
    "        i += 1\n",
    "\n",
    "    return fibonacci_sequence\n",
    "import b\n",
    "\n",
    "result = b.generate_fibonacci(7)\n",
    "print(result)\n"
   ]
  },
  {
   "cell_type": "code",
   "execution_count": null,
   "metadata": {},
   "outputs": [],
   "source": [
    "import b\n",
    "\n",
    "result = b.generate_fibonacci(7)\n",
    "print(result)\n",
    "\n",
    "\n",
    "\n",
    "ss = b.add(2, 3)\n",
    "print(ss)"
   ]
  },
  {
   "cell_type": "code",
   "execution_count": 25,
   "metadata": {},
   "outputs": [
    {
     "data": {
      "text/plain": [
       "6.5"
      ]
     },
     "execution_count": 25,
     "metadata": {},
     "output_type": "execute_result"
    }
   ],
   "source": [
    "import statistics\n",
    "A=[5,12,5,3,6,7,3,12,15,10]\n",
    "m=statistics.median(A)\n",
    "m"
   ]
  },
  {
   "cell_type": "code",
   "execution_count": 30,
   "metadata": {},
   "outputs": [
    {
     "data": {
      "text/plain": [
       "3"
      ]
     },
     "execution_count": 30,
     "metadata": {},
     "output_type": "execute_result"
    }
   ],
   "source": [
    "import random\n",
    "random.randint(1,11)"
   ]
  },
  {
   "cell_type": "code",
   "execution_count": 35,
   "metadata": {},
   "outputs": [
    {
     "name": "stdout",
     "output_type": "stream",
     "text": [
      "Thursday\n"
     ]
    }
   ],
   "source": [
    "import datetime\n",
    "x=datetime.datetime.now()\n",
    "x.day\n",
    "print(x.strftime(\"%A\"))"
   ]
  },
  {
   "cell_type": "code",
   "execution_count": null,
   "metadata": {},
   "outputs": [],
   "source": []
  }
 ],
 "metadata": {
  "kernelspec": {
   "display_name": "Python 3",
   "language": "python",
   "name": "python3"
  },
  "language_info": {
   "codemirror_mode": {
    "name": "ipython",
    "version": 3
   },
   "file_extension": ".py",
   "mimetype": "text/x-python",
   "name": "python",
   "nbconvert_exporter": "python",
   "pygments_lexer": "ipython3",
   "version": "3.12.0"
  }
 },
 "nbformat": 4,
 "nbformat_minor": 2
}
